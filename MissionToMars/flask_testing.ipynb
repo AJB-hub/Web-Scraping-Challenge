{
 "cells": [
  {
   "cell_type": "code",
   "execution_count": 2,
   "id": "dabacd1c-ed33-4d66-b4af-66d36e2d6890",
   "metadata": {},
   "outputs": [],
   "source": [
    "from pymongo import MongoClient\n",
    "\n",
    "import pandas as pd\n",
    "import pprint\n",
    "import typing\n",
    "\n",
    "from bson.objectid import ObjectId\n",
    "\n",
    "from flask import Flask, render_template\n",
    "\n",
    "from scrape import scrape\n",
    "from pushpull import get, push\n"
   ]
  },
  {
   "cell_type": "code",
   "execution_count": null,
   "id": "d0b38d5b-dd98-4680-89b3-8d3e1f116fe8",
   "metadata": {},
   "outputs": [],
   "source": []
  },
  {
   "cell_type": "code",
   "execution_count": null,
   "id": "20ddd4e2-fb67-4157-8656-6a9b2750bd65",
   "metadata": {},
   "outputs": [
    {
     "name": "stderr",
     "output_type": "stream",
     "text": [
      "\n",
      "\n",
      "====== WebDriver manager ======\n",
      "Current google-chrome version is 91.0.4472\n",
      "Get LATEST driver version for 91.0.4472\n",
      "Driver [C:\\Users\\Andrew\\.wdm\\drivers\\chromedriver\\win32\\91.0.4472.101\\chromedriver.exe] found in cache\n",
      "\n",
      "\n",
      "====== WebDriver manager ======\n",
      "Current google-chrome version is 91.0.4472\n",
      "Get LATEST driver version for 91.0.4472\n",
      "Driver [C:\\Users\\Andrew\\.wdm\\drivers\\chromedriver\\win32\\91.0.4472.101\\chromedriver.exe] found in cache\n",
      "\n",
      "\n",
      "====== WebDriver manager ======\n",
      "Current google-chrome version is 91.0.4472\n",
      "Get LATEST driver version for 91.0.4472\n",
      "Driver [C:\\Users\\Andrew\\.wdm\\drivers\\chromedriver\\win32\\91.0.4472.101\\chromedriver.exe] found in cache\n",
      "\n",
      "\n",
      "====== WebDriver manager ======\n",
      "Current google-chrome version is 91.0.4472\n",
      "Get LATEST driver version for 91.0.4472\n",
      "Driver [C:\\Users\\Andrew\\.wdm\\drivers\\chromedriver\\win32\\91.0.4472.101\\chromedriver.exe] found in cache\n",
      "\n",
      "\n",
      "====== WebDriver manager ======\n",
      "Current google-chrome version is 91.0.4472\n",
      "Get LATEST driver version for 91.0.4472\n",
      "Driver [C:\\Users\\Andrew\\.wdm\\drivers\\chromedriver\\win32\\91.0.4472.101\\chromedriver.exe] found in cache\n",
      "\n",
      "\n",
      "====== WebDriver manager ======\n",
      "Current google-chrome version is 91.0.4472\n",
      "Get LATEST driver version for 91.0.4472\n",
      "Driver [C:\\Users\\Andrew\\.wdm\\drivers\\chromedriver\\win32\\91.0.4472.101\\chromedriver.exe] found in cache\n",
      "\n",
      "\n",
      "====== WebDriver manager ======\n",
      "Current google-chrome version is 91.0.4472\n",
      "Get LATEST driver version for 91.0.4472\n",
      "Driver [C:\\Users\\Andrew\\.wdm\\drivers\\chromedriver\\win32\\91.0.4472.101\\chromedriver.exe] found in cache\n"
     ]
    },
    {
     "name": "stdout",
     "output_type": "stream",
     "text": [
      " * Serving Flask app '__main__' (lazy loading)\n",
      " * Environment: production\n",
      "\u001b[31m   WARNING: This is a development server. Do not use it in a production deployment.\u001b[0m\n",
      "\u001b[2m   Use a production WSGI server instead.\u001b[0m\n",
      " * Debug mode: off\n"
     ]
    },
    {
     "name": "stderr",
     "output_type": "stream",
     "text": [
      " * Running on http://127.0.0.1:5000/ (Press CTRL+C to quit)\n"
     ]
    }
   ],
   "source": [
    "# Create an instance of our Flask app.\n",
    "app = Flask(__name__)\n",
    "\n",
    "client = MongoClient(\"mongodb://localhost:27017/\")\n",
    "db = client.MarsData\n",
    "col = db[\"scrape_data\"]\n",
    "\n",
    "push(col)\n",
    "\n",
    "@app.route('/')\n",
    "def index():\n",
    "\n",
    "    return render_template('./html/index.html', \n",
    "                                        title = get('p0', col)[0]['news_title'],\n",
    "                           \n",
    "                                        para = get('p0', col)[0]['news_p'],\n",
    "\n",
    "                                        img = get('p1', col)[0]['image_url'],\n",
    "\n",
    "                                        table = get('p2', col)[0]['mars_table'],\n",
    "\n",
    "                                        h_title = [get(f'p{i}', col)[0]['title'] for i in range(3,7)],\n",
    "\n",
    "                                        h_url = [get(f'p{i}', col)[0]['img_url'] for i in range(3,7)],\n",
    "\n",
    "                          )\n",
    "\n",
    "@app.route('/scrape')\n",
    "def ScrapeRequest():\n",
    "    \n",
    "    try:\n",
    "        \n",
    "        push()\n",
    "        \n",
    "    finally:\n",
    "        \n",
    "        return render_template('./html/index.html', \n",
    "                                        title = get('p0', col)[0]['news_title'],\n",
    "                           \n",
    "                                        para = get('p0', col)[0]['news_p'],\n",
    "\n",
    "                                        img = get('p1', col)[0]['image_url'],\n",
    "\n",
    "                                        table = get('p2', col)[0]['mars_table'],\n",
    "\n",
    "                                        h_title = [get(f'p{i}', col)[0]['title'] for i in range(3,7)],\n",
    "\n",
    "                                        h_url = [get(f'p{i}', col)[0]['img_url'] for i in range(3,7)],\n",
    "\n",
    "                          )\n",
    "\n",
    "if __name__ == \"__main__\":\n",
    "    app.run(debug=False)\n",
    "\n"
   ]
  },
  {
   "cell_type": "code",
   "execution_count": null,
   "id": "cc2a22c9-429f-4243-9398-5451589ddd83",
   "metadata": {},
   "outputs": [],
   "source": []
  },
  {
   "cell_type": "code",
   "execution_count": null,
   "id": "64949029-ccf2-4203-b662-ad3aef463ea0",
   "metadata": {},
   "outputs": [],
   "source": []
  }
 ],
 "metadata": {
  "kernelspec": {
   "display_name": "PythonData",
   "language": "python",
   "name": "pythondata"
  },
  "language_info": {
   "codemirror_mode": {
    "name": "ipython",
    "version": 3
   },
   "file_extension": ".py",
   "mimetype": "text/x-python",
   "name": "python",
   "nbconvert_exporter": "python",
   "pygments_lexer": "ipython3",
   "version": "3.6.10"
  }
 },
 "nbformat": 4,
 "nbformat_minor": 5
}
