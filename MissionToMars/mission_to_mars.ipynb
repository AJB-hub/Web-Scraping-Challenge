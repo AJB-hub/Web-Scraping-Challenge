{
 "cells": [
  {
   "cell_type": "markdown",
   "id": "aee81104",
   "metadata": {},
   "source": [
    "### Import Dependencies"
   ]
  },
  {
   "cell_type": "code",
   "execution_count": 1,
   "id": "ef2f7627",
   "metadata": {},
   "outputs": [],
   "source": [
    "#Web Scraping\n",
    "from splinter import Browser\n",
    "from bs4 import BeautifulSoup\n",
    "from webdriver_manager.chrome import ChromeDriverManager\n",
    "import pandas as pd"
   ]
  },
  {
   "cell_type": "markdown",
   "id": "c2732d48",
   "metadata": {},
   "source": [
    "### Mars Article Web Scrape"
   ]
  },
  {
   "cell_type": "code",
   "execution_count": null,
   "id": "545d6440",
   "metadata": {},
   "outputs": [],
   "source": [
    "# Setup splinter\n",
    "executable_path = {'executable_path': ChromeDriverManager().install()}\n",
    "browser = Browser('chrome', **executable_path, headless=False)\n",
    "\n",
    "#First Page URL\n",
    "url = 'https://redplanetscience.com/'\n",
    "browser.visit(url)"
   ]
  },
  {
   "cell_type": "code",
   "execution_count": null,
   "id": "053c9119",
   "metadata": {},
   "outputs": [],
   "source": [
    "#Initialize soup obj\n",
    "print('Initialize', end='\\r')\n",
    "\n",
    "try:\n",
    "    html = browser.html\n",
    "    soup = BeautifulSoup(html, 'html.parser')\n",
    "except:\n",
    "    print('Error Loading page.')\n",
    "\n",
    "#Data scrape from html\n",
    "print('Data Scrape', end='\\r')\n",
    "\n",
    "try:\n",
    "    news_title = soup.find_all('div', class_ = 'content_title')\n",
    "    news_p = soup.find_all('div', class_ = 'article_teaser_body')\n",
    "finally:\n",
    "    browser.quit()\n",
    "    "
   ]
  },
  {
   "cell_type": "code",
   "execution_count": null,
   "id": "2a0d14a9",
   "metadata": {},
   "outputs": [],
   "source": [
    "#get first element in string output and its text \n",
    "first_title = news_title[0].text\n",
    "first_p = news_p[0].text"
   ]
  },
  {
   "cell_type": "markdown",
   "id": "d592900f",
   "metadata": {},
   "source": [
    "### Mars Image Web Scrape\n"
   ]
  },
  {
   "cell_type": "code",
   "execution_count": null,
   "id": "f7db27e3",
   "metadata": {},
   "outputs": [],
   "source": [
    "# Setup splinter\n",
    "executable_path = {'executable_path': ChromeDriverManager().install()}\n",
    "browser = Browser('chrome', **executable_path, headless=False)\n",
    "\n",
    "#Second Page URL\n",
    "url = 'https://spaceimages-mars.com/'\n",
    "browser.visit(url)"
   ]
  },
  {
   "cell_type": "code",
   "execution_count": null,
   "id": "3da104dc",
   "metadata": {},
   "outputs": [],
   "source": [
    "#Initialize soup obj\n",
    "print('Initialize', end='\\r')\n",
    "\n",
    "try:\n",
    "    html = browser.html\n",
    "    soup = BeautifulSoup(html, 'html.parser')\n",
    "except:\n",
    "    print('Error Loading page.')\n",
    "\n",
    "#Data scrape from html\n",
    "print('Data Scrape', end='\\r')\n",
    "\n",
    "try:\n",
    "    featured_url = soup.find_all('img', class_ = 'headerimage fade-in')[0]['src']\n",
    "\n",
    "finally:\n",
    "    print('-------- Complete ------------', end='\\r')\n",
    "    browser.quit()\n",
    "    "
   ]
  },
  {
   "cell_type": "code",
   "execution_count": null,
   "id": "d51d75f3",
   "metadata": {},
   "outputs": [],
   "source": [
    "#Combine web url with relative path\n",
    "image_url = url + featured_url"
   ]
  },
  {
   "cell_type": "markdown",
   "id": "093312ca",
   "metadata": {},
   "source": [
    "### Mars Facts Web Scrape\n"
   ]
  },
  {
   "cell_type": "code",
   "execution_count": null,
   "id": "6e79d8ae",
   "metadata": {},
   "outputs": [],
   "source": [
    "#Second Page URL\n",
    "url = 'https://galaxyfacts-mars.com/'"
   ]
  },
  {
   "cell_type": "code",
   "execution_count": null,
   "id": "978e18cd",
   "metadata": {},
   "outputs": [],
   "source": [
    "mars_table = pd.read_html(url)[1]"
   ]
  },
  {
   "cell_type": "code",
   "execution_count": null,
   "id": "79331794",
   "metadata": {},
   "outputs": [],
   "source": [
    "print(mars_table.to_html())"
   ]
  },
  {
   "cell_type": "markdown",
   "id": "c3b4bc77",
   "metadata": {},
   "source": [
    "### Mars Hemisphere Images Scrape"
   ]
  },
  {
   "cell_type": "code",
   "execution_count": 107,
   "id": "45facdb1",
   "metadata": {},
   "outputs": [
    {
     "name": "stderr",
     "output_type": "stream",
     "text": [
      "\n",
      "\n",
      "====== WebDriver manager ======\n",
      "Current google-chrome version is 91.0.4472\n",
      "Get LATEST driver version for 91.0.4472\n",
      "Driver [/Users/andrew/.wdm/drivers/chromedriver/mac64/91.0.4472.101/chromedriver] found in cache\n"
     ]
    }
   ],
   "source": [
    "# Setup splinter\n",
    "executable_path = {'executable_path': ChromeDriverManager().install()}\n",
    "browser = Browser('chrome', **executable_path, headless=False)\n",
    "\n",
    "#Second Page URL\n",
    "url = 'https://marshemispheres.com/'\n",
    "browser.visit(url)"
   ]
  },
  {
   "cell_type": "code",
   "execution_count": 108,
   "id": "cca5ed88",
   "metadata": {},
   "outputs": [
    {
     "name": "stdout",
     "output_type": "stream",
     "text": [
      "-------- Complete ------------\r"
     ]
    }
   ],
   "source": [
    "#Initialize soup obj\n",
    "print('Initialize', end='\\r')\n",
    "\n",
    "try:\n",
    "    html = browser.html\n",
    "    soup = BeautifulSoup(html, 'html.parser')\n",
    "except:\n",
    "    print('Error Loading page.')\n",
    "\n",
    "#Data scrape from html\n",
    "print('Data Scrape', end='\\r')\n",
    "\n",
    "try:\n",
    "    #scrape all relative paths\n",
    "    rel_path_list = soup.find_all('a', class_ = 'itemLink product-item')\n",
    "    html_path = [path['href'] for path in rel_path_list]\n",
    "    \n",
    "    #remove duplicates\n",
    "    html_path = list(set(html_path))\n",
    "    \n",
    "    #remove blank paths\n",
    "    temp_html = []\n",
    "    for path in html_path:\n",
    "        if path[0] != '#':\n",
    "            temp_html.append(path)\n",
    "    html_path = temp_html\n",
    "    \n",
    "    #Append url to relative path\n",
    "    html_path = [url + path for path in html_path]\n",
    "    \n",
    "    \n",
    "    \n",
    "    \n",
    "    \n",
    "    image_path = []\n",
    "    for path in html_path:\n",
    "        image_dict = {}\n",
    "        try:\n",
    "            browser.visit(path)\n",
    "            html = browser.html\n",
    "            soup = BeautifulSoup(html, 'html.parser')\n",
    "            \n",
    "            title_text = soup.find_all('h2', class_='title')[0].text\n",
    "            img_url = url + (soup.find_all('a')[3]['href'])\n",
    "            \n",
    "            image_dict['title'] = title_text[0:len(title_text)-9]\n",
    "            image_dict['img_url'] = img_url \n",
    "            image_path.append(image_dict)\n",
    "            \n",
    "        except:\n",
    "            print('Error Loading page.')\n",
    "\n",
    "    \n",
    "finally:\n",
    "    print('-------- Complete ------------', end='\\r')\n",
    "    browser.quit()\n",
    "    \n",
    "\n"
   ]
  },
  {
   "cell_type": "code",
   "execution_count": null,
   "id": "79c6603c",
   "metadata": {},
   "outputs": [],
   "source": []
  },
  {
   "cell_type": "code",
   "execution_count": null,
   "id": "b4d4912d",
   "metadata": {},
   "outputs": [],
   "source": []
  },
  {
   "cell_type": "code",
   "execution_count": null,
   "id": "a0aaff0f",
   "metadata": {},
   "outputs": [],
   "source": []
  },
  {
   "cell_type": "code",
   "execution_count": null,
   "id": "80baf99c",
   "metadata": {},
   "outputs": [],
   "source": []
  }
 ],
 "metadata": {
  "kernelspec": {
   "display_name": "Python 3",
   "language": "python",
   "name": "python3"
  },
  "language_info": {
   "codemirror_mode": {
    "name": "ipython",
    "version": 3
   },
   "file_extension": ".py",
   "mimetype": "text/x-python",
   "name": "python",
   "nbconvert_exporter": "python",
   "pygments_lexer": "ipython3",
   "version": "3.6.10"
  }
 },
 "nbformat": 4,
 "nbformat_minor": 5
}
