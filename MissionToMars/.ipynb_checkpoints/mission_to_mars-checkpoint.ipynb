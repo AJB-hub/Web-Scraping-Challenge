{
 "cells": [
  {
   "cell_type": "markdown",
   "id": "66b3e72c",
   "metadata": {},
   "source": [
    "### Import Dependencies"
   ]
  },
  {
   "cell_type": "code",
   "execution_count": 1,
   "id": "6f27040b",
   "metadata": {},
   "outputs": [],
   "source": [
    "#Web Scraping\n",
    "from splinter import Browser\n",
    "from bs4 import BeautifulSoup\n",
    "from webdriver_manager.chrome import ChromeDriverManager\n",
    "import pandas as pd\n",
    "import typing"
   ]
  },
  {
   "cell_type": "code",
   "execution_count": null,
   "id": "e78079ac",
   "metadata": {},
   "outputs": [],
   "source": [
    "#Connection Function\n",
    "def connect(url:str) -> str:\n",
    "    # Setup splinter\n",
    "    executable_path = {'executable_path': ChromeDriverManager().install()}\n",
    "    browser = Browser('chrome', **executable_path, headless=True)\n",
    "\n",
    "    #Page URL\n",
    "    browser.visit(url)\n",
    "    \n",
    "    #Soup Creation\n",
    "    html = browser.html\n",
    "    cout = BeautifulSoup(html, 'html.parser')\n",
    "    \n",
    "    #Exit Browser\n",
    "    browser.quit()\n",
    "\n",
    "    return cout"
   ]
  },
  {
   "cell_type": "markdown",
   "id": "69e317ff",
   "metadata": {},
   "source": [
    "### Mars Article Web Scrape"
   ]
  },
  {
   "cell_type": "code",
   "execution_count": null,
   "id": "8703f8cf",
   "metadata": {},
   "outputs": [],
   "source": [
    "url = 'https://redplanetscience.com/'\n",
    "soup = connect(url)\n",
    "\n",
    "news_title = soup.find_all('div', class_ = 'content_title')\n",
    "news_p = soup.find_all('div', class_ = 'article_teaser_body')\n"
   ]
  },
  {
   "cell_type": "code",
   "execution_count": null,
   "id": "d617aef5",
   "metadata": {},
   "outputs": [],
   "source": [
    "#get first element in string output and its text \n",
    "first_title = news_title[0].text\n",
    "first_p = news_p[0].text"
   ]
  },
  {
   "cell_type": "markdown",
   "id": "4aa48a48",
   "metadata": {},
   "source": [
    "### Mars Image Web Scrape\n"
   ]
  },
  {
   "cell_type": "code",
   "execution_count": null,
   "id": "6dc61602",
   "metadata": {},
   "outputs": [],
   "source": [
    "url = 'https://spaceimages-mars.com/'\n",
    "soup = connect(url)\n",
    "\n",
    "featured_url = soup.find_all('img', class_ = 'headerimage fade-in')[0]['src']\n",
    "image_url = url + featured_url\n"
   ]
  },
  {
   "cell_type": "markdown",
   "id": "ce77742d",
   "metadata": {},
   "source": [
    "### Mars Facts Web Scrape\n"
   ]
  },
  {
   "cell_type": "code",
   "execution_count": 18,
   "id": "7ca47e39",
   "metadata": {},
   "outputs": [
    {
     "data": {
      "text/plain": [
       "'<table border=\"1\" class=\"dataframe\">\\n  <thead>\\n    <tr style=\"text-align: right;\">\\n      <th></th>\\n      <th>0</th>\\n      <th>1</th>\\n    </tr>\\n  </thead>\\n  <tbody>\\n    <tr>\\n      <th>0</th>\\n      <td>Equatorial Diameter:</td>\\n      <td>6,792 km</td>\\n    </tr>\\n    <tr>\\n      <th>1</th>\\n      <td>Polar Diameter:</td>\\n      <td>6,752 km</td>\\n    </tr>\\n    <tr>\\n      <th>2</th>\\n      <td>Mass:</td>\\n      <td>6.39 × 10^23 kg (0.11 Earths)</td>\\n    </tr>\\n    <tr>\\n      <th>3</th>\\n      <td>Moons:</td>\\n      <td>2 ( Phobos &amp; Deimos )</td>\\n    </tr>\\n    <tr>\\n      <th>4</th>\\n      <td>Orbit Distance:</td>\\n      <td>227,943,824 km (1.38 AU)</td>\\n    </tr>\\n    <tr>\\n      <th>5</th>\\n      <td>Orbit Period:</td>\\n      <td>687 days (1.9 years)</td>\\n    </tr>\\n    <tr>\\n      <th>6</th>\\n      <td>Surface Temperature:</td>\\n      <td>-87 to -5 °C</td>\\n    </tr>\\n    <tr>\\n      <th>7</th>\\n      <td>First Record:</td>\\n      <td>2nd millennium BC</td>\\n    </tr>\\n    <tr>\\n      <th>8</th>\\n      <td>Recorded By:</td>\\n      <td>Egyptian astronomers</td>\\n    </tr>\\n  </tbody>\\n</table>'"
      ]
     },
     "execution_count": 18,
     "metadata": {},
     "output_type": "execute_result"
    }
   ],
   "source": [
    "#Second Page URL\n",
    "url = 'https://galaxyfacts-mars.com/'\n",
    "\n",
    "mars_table = pd.read_html(url)[1].to_html()\n",
    "\n",
    "mars_table\n"
   ]
  },
  {
   "cell_type": "markdown",
   "id": "a8edda00",
   "metadata": {},
   "source": [
    "### Mars Hemisphere Images Scrape"
   ]
  },
  {
   "cell_type": "code",
   "execution_count": null,
   "id": "8a65b0e9",
   "metadata": {},
   "outputs": [],
   "source": [
    "url = 'https://marshemispheres.com/'\n",
    "\n",
    "soup = connect(url)\n",
    "\n",
    "\n",
    "#scrape all relative paths\n",
    "rel_path_list = soup.find_all('a', class_ = 'itemLink product-item')\n",
    "html_path = [path['href'] for path in rel_path_list]\n",
    "\n",
    "#remove duplicates\n",
    "html_path = list(set(html_path))\n",
    "\n",
    "#remove blank paths\n",
    "temp_html = []\n",
    "for path in html_path:\n",
    "    if path[0] != '#':\n",
    "        temp_html.append(path)\n",
    "html_path = temp_html\n",
    "\n",
    "#Append url to relative path\n",
    "html_path = [url + path for path in html_path]\n",
    "\n",
    "#Visit each url and pull the image url and title\n",
    "image_path = []\n",
    "for path in html_path:\n",
    "    image_dict = {}\n",
    "    #try:\n",
    "    #visit each path and load html\n",
    "    soup = connect(path)\n",
    "\n",
    "    #find relevant data from html soup\n",
    "    title_text = soup.find_all('h2', class_='title')[0].text\n",
    "    img_url = url + (soup.find_all('a')[3]['href'])\n",
    "\n",
    "    #add data to list dict obj \n",
    "    image_dict['title'] = title_text[0:len(title_text)-9]\n",
    "    image_dict['img_url'] = img_url \n",
    "    image_path.append(image_dict)       \n"
   ]
  },
  {
   "cell_type": "code",
   "execution_count": 20,
   "id": "ed06a651",
   "metadata": {},
   "outputs": [],
   "source": [
    "#Web Scraping\n",
    "from splinter import Browser\n",
    "from bs4 import BeautifulSoup\n",
    "from webdriver_manager.chrome import ChromeDriverManager\n",
    "import pandas as pd\n",
    "import typing\n",
    "\n",
    "\n",
    "#Connection Function\n",
    "def connect(url:str) -> str:\n",
    "    # Setup splinter\n",
    "    executable_path = {'executable_path': ChromeDriverManager().install()}\n",
    "    browser = Browser('chrome', **executable_path, headless=True)\n",
    "\n",
    "    #Page URL\n",
    "    browser.visit(url)\n",
    "    \n",
    "    #Soup Creation\n",
    "    html = browser.html\n",
    "    cout = BeautifulSoup(html, 'html.parser')\n",
    "    \n",
    "    #Exit Browser\n",
    "    browser.quit()\n",
    "\n",
    "    return cout\n",
    "\n",
    "\n",
    "def scrape() -> list:\n",
    "    \n",
    "    scrapeList = []\n",
    "    \n",
    "    \n",
    "    #First Link ---------------------------------------------------------------------------------\n",
    "    \n",
    "    url = 'https://redplanetscience.com/'\n",
    "    soup = connect(url)\n",
    "\n",
    "    d = {'news_title': soup.find_all('div', class_ = 'content_title')[0].text,\n",
    "         'news_p': soup.find_all('div', class_ = 'article_teaser_body')[0].text\n",
    "    }\n",
    "    scrapeList.append(d)\n",
    "    \n",
    "    #Second Link ---------------------------------------------------------------------------------\n",
    "    \n",
    "    url = 'https://spaceimages-mars.com/'\n",
    "    soup = connect(url)\n",
    "\n",
    "    featured_url = soup.find_all('img', class_ = 'headerimage fade-in')[0]['src']\n",
    "    \n",
    "    d = {'image_url': url + featured_url}\n",
    "    \n",
    "    scrapeList.append(d)\n",
    "    \n",
    "    #Third Link ---------------------------------------------------------------------------------\n",
    "    \n",
    "    url = 'https://galaxyfacts-mars.com/'\n",
    "\n",
    "    mars_df = pd.read_html(url)[1]\n",
    "    \n",
    "    d = {'mars_table': mars_df.to_html()}\n",
    "    \n",
    "    scrapeList.append(d)\n",
    "    \n",
    "    #Fourth Link ---------------------------------------------------------------------------------\n",
    "    url = 'https://marshemispheres.com/'\n",
    "\n",
    "    soup = connect(url)\n",
    "\n",
    "    #scrape all relative paths\n",
    "    rel_path_list = soup.find_all('a', class_ = 'itemLink product-item')\n",
    "    html_path = [path['href'] for path in rel_path_list]\n",
    "\n",
    "    #remove duplicates\n",
    "    html_path = list(set(html_path))\n",
    "\n",
    "    #remove blank paths\n",
    "    temp_html = []\n",
    "    for path in html_path:\n",
    "        if path[0] != '#':\n",
    "            temp_html.append(path)\n",
    "    html_path = temp_html\n",
    "\n",
    "    #Append url to relative path\n",
    "    html_path = [url + path for path in html_path]\n",
    "\n",
    "    #Visit each url and pull the image url and title\n",
    "    image_path = []\n",
    "    for path in html_path:\n",
    "        image_dict = {}\n",
    "        #try:\n",
    "        #visit each path and load html\n",
    "        soup = connect(path)\n",
    "\n",
    "        #find relevant data from html soup\n",
    "        title_text = soup.find_all('h2', class_='title')[0].text\n",
    "        img_url = url + (soup.find_all('a')[3]['href'])\n",
    "\n",
    "        #add data to list dict obj \n",
    "        image_dict['title'] = title_text[0:len(title_text)-9]\n",
    "        image_dict['img_url'] = img_url \n",
    "        image_path.append(image_dict)       \n",
    "\n",
    "    d = {'hemi_info': image_path}\n",
    "    \n",
    "    scrapeList.append(d)\n",
    "    \n",
    "    return scrapeList\n"
   ]
  },
  {
   "cell_type": "code",
   "execution_count": 21,
   "id": "62098f2c",
   "metadata": {},
   "outputs": [
    {
     "name": "stderr",
     "output_type": "stream",
     "text": [
      "\n",
      "\n",
      "====== WebDriver manager ======\n",
      "Current google-chrome version is 91.0.4472\n",
      "Get LATEST driver version for 91.0.4472\n",
      "Driver [/Users/andrew/.wdm/drivers/chromedriver/mac64/91.0.4472.101/chromedriver] found in cache\n",
      "\n",
      "\n",
      "====== WebDriver manager ======\n",
      "Current google-chrome version is 91.0.4472\n",
      "Get LATEST driver version for 91.0.4472\n",
      "Driver [/Users/andrew/.wdm/drivers/chromedriver/mac64/91.0.4472.101/chromedriver] found in cache\n",
      "\n",
      "\n",
      "====== WebDriver manager ======\n",
      "Current google-chrome version is 91.0.4472\n",
      "Get LATEST driver version for 91.0.4472\n",
      "Driver [/Users/andrew/.wdm/drivers/chromedriver/mac64/91.0.4472.101/chromedriver] found in cache\n",
      "\n",
      "\n",
      "====== WebDriver manager ======\n",
      "Current google-chrome version is 91.0.4472\n",
      "Get LATEST driver version for 91.0.4472\n",
      "Driver [/Users/andrew/.wdm/drivers/chromedriver/mac64/91.0.4472.101/chromedriver] found in cache\n",
      "\n",
      "\n",
      "====== WebDriver manager ======\n",
      "Current google-chrome version is 91.0.4472\n",
      "Get LATEST driver version for 91.0.4472\n",
      "Driver [/Users/andrew/.wdm/drivers/chromedriver/mac64/91.0.4472.101/chromedriver] found in cache\n",
      "\n",
      "\n",
      "====== WebDriver manager ======\n",
      "Current google-chrome version is 91.0.4472\n",
      "Get LATEST driver version for 91.0.4472\n",
      "Driver [/Users/andrew/.wdm/drivers/chromedriver/mac64/91.0.4472.101/chromedriver] found in cache\n",
      "\n",
      "\n",
      "====== WebDriver manager ======\n",
      "Current google-chrome version is 91.0.4472\n",
      "Get LATEST driver version for 91.0.4472\n",
      "Driver [/Users/andrew/.wdm/drivers/chromedriver/mac64/91.0.4472.101/chromedriver] found in cache\n"
     ]
    },
    {
     "data": {
      "text/plain": [
       "[{'news_title': \"Air Deliveries Bring NASA's Perseverance Mars Rover Closer to Launch\",\n",
       "  'news_p': \"A NASA Wallops Flight Facility cargo plane transported more than two tons of equipment — including the rover's sample collection tubes — to Florida for this summer's liftoff.\"},\n",
       " {'image_url': 'https://spaceimages-mars.com/image/featured/mars2.jpg'},\n",
       " {'mars_table': '<table border=\"1\" class=\"dataframe\">\\n  <thead>\\n    <tr style=\"text-align: right;\">\\n      <th></th>\\n      <th>0</th>\\n      <th>1</th>\\n    </tr>\\n  </thead>\\n  <tbody>\\n    <tr>\\n      <th>0</th>\\n      <td>Equatorial Diameter:</td>\\n      <td>6,792 km</td>\\n    </tr>\\n    <tr>\\n      <th>1</th>\\n      <td>Polar Diameter:</td>\\n      <td>6,752 km</td>\\n    </tr>\\n    <tr>\\n      <th>2</th>\\n      <td>Mass:</td>\\n      <td>6.39 × 10^23 kg (0.11 Earths)</td>\\n    </tr>\\n    <tr>\\n      <th>3</th>\\n      <td>Moons:</td>\\n      <td>2 ( Phobos &amp; Deimos )</td>\\n    </tr>\\n    <tr>\\n      <th>4</th>\\n      <td>Orbit Distance:</td>\\n      <td>227,943,824 km (1.38 AU)</td>\\n    </tr>\\n    <tr>\\n      <th>5</th>\\n      <td>Orbit Period:</td>\\n      <td>687 days (1.9 years)</td>\\n    </tr>\\n    <tr>\\n      <th>6</th>\\n      <td>Surface Temperature:</td>\\n      <td>-87 to -5 °C</td>\\n    </tr>\\n    <tr>\\n      <th>7</th>\\n      <td>First Record:</td>\\n      <td>2nd millennium BC</td>\\n    </tr>\\n    <tr>\\n      <th>8</th>\\n      <td>Recorded By:</td>\\n      <td>Egyptian astronomers</td>\\n    </tr>\\n  </tbody>\\n</table>'},\n",
       " {'hemi_info': [{'title': 'Valles Marineris Hemisphere',\n",
       "    'img_url': 'https://marshemispheres.com/images/valles_marineris_enhanced-full.jpg'},\n",
       "   {'title': 'Syrtis Major Hemisphere',\n",
       "    'img_url': 'https://marshemispheres.com/images/syrtis_major_enhanced-full.jpg'},\n",
       "   {'title': 'Schiaparelli Hemisphere',\n",
       "    'img_url': 'https://marshemispheres.com/images/schiaparelli_enhanced-full.jpg'},\n",
       "   {'title': 'Cerberus Hemisphere',\n",
       "    'img_url': 'https://marshemispheres.com/images/full.jpg'}]}]"
      ]
     },
     "execution_count": 21,
     "metadata": {},
     "output_type": "execute_result"
    }
   ],
   "source": [
    "scrape()"
   ]
  },
  {
   "cell_type": "code",
   "execution_count": null,
   "id": "8cdf1055",
   "metadata": {},
   "outputs": [],
   "source": []
  }
 ],
 "metadata": {
  "kernelspec": {
   "display_name": "Python 3",
   "language": "python",
   "name": "python3"
  },
  "language_info": {
   "codemirror_mode": {
    "name": "ipython",
    "version": 3
   },
   "file_extension": ".py",
   "mimetype": "text/x-python",
   "name": "python",
   "nbconvert_exporter": "python",
   "pygments_lexer": "ipython3",
   "version": "3.6.10"
  }
 },
 "nbformat": 4,
 "nbformat_minor": 5
}
