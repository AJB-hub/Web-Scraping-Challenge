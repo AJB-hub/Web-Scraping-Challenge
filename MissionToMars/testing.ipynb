{
 "cells": [
  {
   "cell_type": "code",
   "execution_count": 1,
   "id": "5ded3c6a",
   "metadata": {},
   "outputs": [],
   "source": [
    "from pymongo import MongoClient\n",
    "from scrape import scrape\n",
    "import pandas as pd\n",
    "import pprint\n",
    "import typing\n",
    "\n",
    "from bson.objectid import ObjectId"
   ]
  },
  {
   "cell_type": "code",
   "execution_count": 7,
   "id": "44e459f2",
   "metadata": {},
   "outputs": [],
   "source": [
    "def mongoconnect(): \n",
    "    client = MongoClient(\"mongodb://localhost:27017/\")\n",
    "    db = client.MarsData\n",
    "    global col\n",
    "    col = db[\"scrape_data\"]"
   ]
  },
  {
   "cell_type": "code",
   "execution_count": null,
   "id": "2212f142",
   "metadata": {},
   "outputs": [],
   "source": [
    "db.scrape_data.drop()"
   ]
  },
  {
   "cell_type": "code",
   "execution_count": 3,
   "id": "d5ee3b3e-c6e5-4bb0-9217-e52c5a9a2528",
   "metadata": {},
   "outputs": [],
   "source": [
    "\n",
    "def push():\n",
    "    \n",
    "    mongoconnect()\n",
    "\n",
    "    maguffin = scrape()\n",
    "    \n",
    "    #Insert first three dictionaries\n",
    "    for i in range(0, len(maguffin) - 1):\n",
    "        col.insert_one(maguffin[i])\n",
    "\n",
    "    #Insert list of dictionaries\n",
    "    for i in range(0, len(maguffin[3])):\n",
    "        col.insert_one(maguffin[3][i])"
   ]
  },
  {
   "cell_type": "code",
   "execution_count": null,
   "id": "ffffd83c-7488-4b7c-96a7-98554ec618c6",
   "metadata": {},
   "outputs": [],
   "source": [
    "document = [i for i in col.find()]\n",
    "\n",
    "document[0]['_id']"
   ]
  },
  {
   "cell_type": "code",
   "execution_count": 8,
   "id": "ddb156a9",
   "metadata": {},
   "outputs": [],
   "source": [
    "def get(request:str) -> list:  #must be run after push\n",
    "    \n",
    "    mongoconnect()\n",
    "\n",
    "    document = [i for i in col.find()]\n",
    "    \n",
    "    translator = {f'p{i}': document[i]['_id'] for i in range(0, len(document))}\n",
    "    \n",
    "    post_id = translator[request]\n",
    "    \n",
    "    query = {\"_id\": post_id}\n",
    "\n",
    "    document = [i for i in col.find(query)]\n",
    "\n",
    "    return [val for val in document]\n",
    "    "
   ]
  },
  {
   "cell_type": "code",
   "execution_count": 4,
   "id": "df8c2580",
   "metadata": {},
   "outputs": [
    {
     "name": "stderr",
     "output_type": "stream",
     "text": [
      "\n",
      "\n",
      "====== WebDriver manager ======\n",
      "Current google-chrome version is 91.0.4472\n",
      "Get LATEST driver version for 91.0.4472\n",
      "Driver [C:\\Users\\Andrew\\.wdm\\drivers\\chromedriver\\win32\\91.0.4472.101\\chromedriver.exe] found in cache\n",
      "\n",
      "\n",
      "====== WebDriver manager ======\n",
      "Current google-chrome version is 91.0.4472\n",
      "Get LATEST driver version for 91.0.4472\n",
      "Driver [C:\\Users\\Andrew\\.wdm\\drivers\\chromedriver\\win32\\91.0.4472.101\\chromedriver.exe] found in cache\n",
      "\n",
      "\n",
      "====== WebDriver manager ======\n",
      "Current google-chrome version is 91.0.4472\n",
      "Get LATEST driver version for 91.0.4472\n",
      "Driver [C:\\Users\\Andrew\\.wdm\\drivers\\chromedriver\\win32\\91.0.4472.101\\chromedriver.exe] found in cache\n",
      "\n",
      "\n",
      "====== WebDriver manager ======\n",
      "Current google-chrome version is 91.0.4472\n",
      "Get LATEST driver version for 91.0.4472\n",
      "Driver [C:\\Users\\Andrew\\.wdm\\drivers\\chromedriver\\win32\\91.0.4472.101\\chromedriver.exe] found in cache\n",
      "\n",
      "\n",
      "====== WebDriver manager ======\n",
      "Current google-chrome version is 91.0.4472\n",
      "Get LATEST driver version for 91.0.4472\n",
      "Driver [C:\\Users\\Andrew\\.wdm\\drivers\\chromedriver\\win32\\91.0.4472.101\\chromedriver.exe] found in cache\n",
      "\n",
      "\n",
      "====== WebDriver manager ======\n",
      "Current google-chrome version is 91.0.4472\n",
      "Get LATEST driver version for 91.0.4472\n",
      "Driver [C:\\Users\\Andrew\\.wdm\\drivers\\chromedriver\\win32\\91.0.4472.101\\chromedriver.exe] found in cache\n",
      "\n",
      "\n",
      "====== WebDriver manager ======\n",
      "Current google-chrome version is 91.0.4472\n",
      "Get LATEST driver version for 91.0.4472\n",
      "Driver [C:\\Users\\Andrew\\.wdm\\drivers\\chromedriver\\win32\\91.0.4472.101\\chromedriver.exe] found in cache\n"
     ]
    }
   ],
   "source": [
    "push()"
   ]
  },
  {
   "cell_type": "code",
   "execution_count": 9,
   "id": "c67ae616-4149-4029-a581-eb955cecd0dd",
   "metadata": {},
   "outputs": [
    {
     "data": {
      "text/plain": [
       "'https://marshemispheres.com/images/schiaparelli_enhanced-full.jpg'"
      ]
     },
     "execution_count": 9,
     "metadata": {},
     "output_type": "execute_result"
    }
   ],
   "source": [
    "get('p3')[0]['img_url']\n"
   ]
  },
  {
   "cell_type": "code",
   "execution_count": null,
   "id": "2b45c779-9970-4381-8390-fcdf4897ebf7",
   "metadata": {},
   "outputs": [],
   "source": []
  }
 ],
 "metadata": {
  "kernelspec": {
   "display_name": "PythonData",
   "language": "python",
   "name": "pythondata"
  },
  "language_info": {
   "codemirror_mode": {
    "name": "ipython",
    "version": 3
   },
   "file_extension": ".py",
   "mimetype": "text/x-python",
   "name": "python",
   "nbconvert_exporter": "python",
   "pygments_lexer": "ipython3",
   "version": "3.6.10"
  }
 },
 "nbformat": 4,
 "nbformat_minor": 5
}
